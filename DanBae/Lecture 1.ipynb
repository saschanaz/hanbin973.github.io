{
 "cells": [
  {
   "cell_type": "markdown",
   "metadata": {},
   "source": [
    "# Statistics : Examples from Epidemiology\n",
    "\n",
    "## What is Epidemiology\n",
    "\n",
    "![London cholera outbreak and John Snow (1854)](Images/Snow.jpg)\n",
    "*Figure: London cholera outbreak and John Snow (1854)*\n",
    "\n",
    "Understang the distribution and the cause of disease and other health related variables"
   ]
  },
  {
   "cell_type": "markdown",
   "metadata": {},
   "source": [
    "## Pyramid of Evidence\n",
    "\n",
    "![pyramid](Images/pyramid.jpg)\n",
    "*Figure: Pyramid of Evidence (Davey Smith, 2018)*\n",
    "\n",
    "### Randomized Controlled Trials\n",
    "$$ y = X \\beta + \\epsilon $$\n",
    "\n",
    "* $y$ : Outcome\n",
    "* $X$ : Exposure\n",
    "* $\\epsilon$ : random error\n",
    "\n",
    "And... the most important part : _$X$ and $\\epsilon$ is independent_"
   ]
  },
  {
   "cell_type": "code",
   "execution_count": 3,
   "metadata": {},
   "outputs": [
    {
     "data": {
      "image/png": "[encoded data removed]",
      "text/plain": [
       "<Figure size 432x288 with 1 Axes>"
      ]
     },
     "metadata": {
      "needs_background": "light"
     },
     "output_type": "display_data"
    },
    {
     "name": "stdout",
     "output_type": "stream",
     "text": [
      "                            OLS Regression Results                            \n",
      "==============================================================================\n",
      "Dep. Variable:                      y   R-squared:                       0.833\n",
      "Model:                            OLS   Adj. R-squared:                  0.831\n",
      "Method:                 Least Squares   F-statistic:                     487.6\n",
      "Date:                Tue, 05 Nov 2019   Prob (F-statistic):           7.96e-40\n",
      "Time:                        01:39:46   Log-Likelihood:                -137.75\n",
      "No. Observations:                 100   AIC:                             279.5\n",
      "Df Residuals:                      98   BIC:                             284.7\n",
      "Df Model:                           1                                         \n",
      "Covariance Type:            nonrobust                                         \n",
      "==============================================================================\n",
      "                 coef    std err          t      P>|t|      [0.025      0.975]\n",
      "------------------------------------------------------------------------------\n",
      "const         -0.0592      0.097     -0.610      0.543      -0.252       0.133\n",
      "x1             2.1490      0.097     22.082      0.000       1.956       2.342\n",
      "==============================================================================\n",
      "Omnibus:                        0.113   Durbin-Watson:                   2.181\n",
      "Prob(Omnibus):                  0.945   Jarque-Bera (JB):                0.000\n",
      "Skew:                          -0.004   Prob(JB):                         1.00\n",
      "Kurtosis:                       3.007   Cond. No.                         1.06\n",
      "==============================================================================\n",
      "\n",
      "Warnings:\n",
      "[1] Standard Errors assume that the covariance matrix of the errors is correctly specified.\n"
     ]
    }
   ],
   "source": [
    "# import required libraries\n",
    "import numpy as np\n",
    "import matplotlib.pyplot as plt\n",
    "import statsmodels.api as sm\n",
    "\n",
    "# suppose y = 2x + \\epsilon\n",
    "\n",
    "# sample x, epsilon and create y\n",
    "n = 100 # 100 samples\n",
    "x = np.random.normal(loc=0, scale=1, size=n)\n",
    "e = np.random.normal(loc=0, scale=1, size=n)\n",
    "y = 2 * x + e\n",
    "\n",
    "plt.scatter(x,y)\n",
    "plt.show()\n",
    "\n",
    "# acuqire b using OLS\n",
    "model = sm.OLS(y, sm.add_constant(x))\n",
    "result = model.fit()\n",
    "print(result.summary())\n",
    "\n",
    "\n"
   ]
  },
  {
   "cell_type": "markdown",
   "metadata": {},
   "source": [
    "### Non-independence of errors\n",
    "$$ y = X \\beta + \\epsilon $$\n",
    "\n",
    "* $y$ : Outcome\n",
    "* $X$ : Exposure\n",
    "* $\\epsilon$ : random error\n",
    "\n",
    "We assumed that error $\\epsilon$ and $X$ is indendent.\n",
    "\n",
    "However, what happens when this assumption is violated?\n",
    "\n",
    "This happens frequently when randomization is not possible since such experiements are impossible to conduct under many conditions.\n",
    "\n",
    "Suppose that,\n",
    "$$(X,\\epsilon) \\sim N(\\mathbf{0}, \\Sigma)$$\n",
    "where $ \\Sigma = \\begin{pmatrix} 1 & 0.5 \\\\ 0.5 & 1 \\end{pmatrix}$"
   ]
  },
  {
   "cell_type": "code",
   "execution_count": 4,
   "metadata": {},
   "outputs": [
    {
     "name": "stdout",
     "output_type": "stream",
     "text": [
      "                            OLS Regression Results                            \n",
      "==============================================================================\n",
      "Dep. Variable:                      y   R-squared:                       0.285\n",
      "Model:                            OLS   Adj. R-squared:                  0.278\n",
      "Method:                 Least Squares   F-statistic:                     39.11\n",
      "Date:                Tue, 05 Nov 2019   Prob (F-statistic):           1.05e-08\n",
      "Time:                        01:39:49   Log-Likelihood:                -108.76\n",
      "No. Observations:                 100   AIC:                             221.5\n",
      "Df Residuals:                      98   BIC:                             226.7\n",
      "Df Model:                           1                                         \n",
      "Covariance Type:            nonrobust                                         \n",
      "==============================================================================\n",
      "                 coef    std err          t      P>|t|      [0.025      0.975]\n",
      "------------------------------------------------------------------------------\n",
      "const         -0.0343      0.073     -0.472      0.638      -0.178       0.110\n",
      "x1             0.4475      0.072      6.254      0.000       0.306       0.590\n",
      "==============================================================================\n",
      "Omnibus:                        0.252   Durbin-Watson:                   2.151\n",
      "Prob(Omnibus):                  0.882   Jarque-Bera (JB):                0.090\n",
      "Skew:                          -0.071   Prob(JB):                        0.956\n",
      "Kurtosis:                       3.034   Cond. No.                         1.04\n",
      "==============================================================================\n",
      "\n",
      "Warnings:\n",
      "[1] Standard Errors assume that the covariance matrix of the errors is correctly specified.\n"
     ]
    },
    {
     "data": {
      "image/png": "[encoded data removed]",
      "text/plain": [
       "<Figure size 432x288 with 1 Axes>"
      ]
     },
     "metadata": {
      "needs_background": "light"
     },
     "output_type": "display_data"
    }
   ],
   "source": [
    "# sample x and e\n",
    "x, e = np.random.multivariate_normal(mean=[0,0], cov=[[1,0.5],[0.5,1]], size=n).T\n",
    "y = e\n",
    "plt.scatter(x,y)\n",
    "plt.plot()\n",
    "\n",
    "# acuqire b using OLS\n",
    "model = sm.OLS(y, sm.add_constant(x))\n",
    "result = model.fit()\n",
    "print(result.summary())"
   ]
  },
  {
   "cell_type": "markdown",
   "metadata": {},
   "source": [
    "### Confounding\n",
    "One cause of such non-independence between the exposure ($X$) and the error ($\\epsilon$) is called confounding.\n",
    "\n",
    "Confounding happens when the exposure and the outcome of interest has a common cause. For example,\n",
    "![confounder](Images/confounder.png)\n",
    "*Figure: Adopted from https://blogs.qub.ac.uk/griefstudy/*\n",
    "\n",
    "\n",
    "\n"
   ]
  },
  {
   "cell_type": "markdown",
   "metadata": {},
   "source": [
    "### Cohort Study and Case-Control Study\n",
    "Cohort study and Case-Control study are common study designs used when randomization is inadequate.\n",
    "As described above, these designs are prone to confounding. \n",
    "However, they are still useful in number of ways.\n",
    "\n",
    "This is how they look like:\n",
    "![cohort](Images/cohort.png)\n",
    "*Figure: Cohort study. Adopted from Gordis, 2018*\n",
    "\n",
    "![cc](Images/cc.png)\n",
    "*Figure: Case-Control study. Adopted from Gordis, 2018*\n",
    "\n",
    "When the confounder is known, we can correct (or adjust) the bias due to its effect.\n",
    "Reminding the above example of coffee and cancer, the following code shows an example of such correction.\n"
   ]
  },
  {
   "cell_type": "code",
   "execution_count": 17,
   "metadata": {},
   "outputs": [
    {
     "name": "stdout",
     "output_type": "stream",
     "text": [
      "                            OLS Regression Results                            \n",
      "==============================================================================\n",
      "Dep. Variable:                      y   R-squared:                       0.128\n",
      "Model:                            OLS   Adj. R-squared:                  0.119\n",
      "Method:                 Least Squares   F-statistic:                     14.43\n",
      "Date:                Tue, 05 Nov 2019   Prob (F-statistic):           0.000252\n",
      "Time:                        01:44:32   Log-Likelihood:                -166.13\n",
      "No. Observations:                 100   AIC:                             336.3\n",
      "Df Residuals:                      98   BIC:                             341.5\n",
      "Df Model:                           1                                         \n",
      "Covariance Type:            nonrobust                                         \n",
      "==============================================================================\n",
      "                 coef    std err          t      P>|t|      [0.025      0.975]\n",
      "------------------------------------------------------------------------------\n",
      "const         -0.0096      0.129     -0.075      0.941      -0.266       0.246\n",
      "x1             0.4936      0.130      3.799      0.000       0.236       0.751\n",
      "==============================================================================\n",
      "Omnibus:                        0.261   Durbin-Watson:                   2.060\n",
      "Prob(Omnibus):                  0.878   Jarque-Bera (JB):                0.397\n",
      "Skew:                           0.105   Prob(JB):                        0.820\n",
      "Kurtosis:                       2.775   Cond. No.                         1.07\n",
      "==============================================================================\n",
      "\n",
      "Warnings:\n",
      "[1] Standard Errors assume that the covariance matrix of the errors is correctly specified.\n",
      "                            OLS Regression Results                            \n",
      "==============================================================================\n",
      "Dep. Variable:                      y   R-squared:                       0.500\n",
      "Model:                            OLS   Adj. R-squared:                  0.490\n",
      "Method:                 Least Squares   F-statistic:                     48.48\n",
      "Date:                Tue, 05 Nov 2019   Prob (F-statistic):           2.53e-15\n",
      "Time:                        01:44:32   Log-Likelihood:                -138.35\n",
      "No. Observations:                 100   AIC:                             282.7\n",
      "Df Residuals:                      97   BIC:                             290.5\n",
      "Df Model:                           2                                         \n",
      "Covariance Type:            nonrobust                                         \n",
      "==============================================================================\n",
      "                 coef    std err          t      P>|t|      [0.025      0.975]\n",
      "------------------------------------------------------------------------------\n",
      "const         -0.0548      0.098     -0.557      0.579      -0.250       0.141\n",
      "x1             0.0874      0.110      0.795      0.428      -0.131       0.305\n",
      "x2             0.9281      0.109      8.489      0.000       0.711       1.145\n",
      "==============================================================================\n",
      "Omnibus:                        0.434   Durbin-Watson:                   2.095\n",
      "Prob(Omnibus):                  0.805   Jarque-Bera (JB):                0.582\n",
      "Skew:                           0.006   Prob(JB):                        0.747\n",
      "Kurtosis:                       2.626   Cond. No.                         1.61\n",
      "==============================================================================\n",
      "\n",
      "Warnings:\n",
      "[1] Standard Errors assume that the covariance matrix of the errors is correctly specified.\n"
     ]
    },
    {
     "data": {
      "image/png": "[encoded data removed]",
      "text/plain": [
       "<Figure size 432x288 with 1 Axes>"
      ]
     },
     "metadata": {
      "needs_background": "light"
     },
     "output_type": "display_data"
    }
   ],
   "source": [
    "# sample x and e\n",
    "coffee, smoking = np.random.multivariate_normal(mean=[0,0], cov=[[1,0.5],[0.5,1]], size=n).T\n",
    "e = np.random.normal(loc=0, scale=1, size=n)\n",
    "cancer = smoking + e\n",
    "plt.scatter(coffee, cancer)\n",
    "plt.plot()\n",
    "\n",
    "# acqire b using OLS without adjustment\n",
    "model = sm.OLS(cancer, sm.add_constant(coffee))\n",
    "result = model.fit()\n",
    "print(result.summary())\n",
    "\n",
    "# acquire b using OLS with adjustment\n",
    "X = np.array([coffee,smoking]).T\n",
    "model_adjust = sm.OLS(cancer, sm.add_constant(X))\n",
    "result_adjust = model_adjust.fit()\n",
    "print(result_adjust.summary())\n"
   ]
  }
 ],
 "metadata": {
  "kernelspec": {
   "display_name": "Python 3",
   "language": "python",
   "name": "python3"
  },
  "language_info": {
   "codemirror_mode": {
    "name": "ipython",
    "version": 3
   },
   "file_extension": ".py",
   "mimetype": "text/x-python",
   "name": "python",
   "nbconvert_exporter": "python",
   "pygments_lexer": "ipython3",
   "version": "3.7.4"
  }
 },
 "nbformat": 4,
 "nbformat_minor": 2
}
