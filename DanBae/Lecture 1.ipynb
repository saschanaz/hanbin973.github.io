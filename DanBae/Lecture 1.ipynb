{
 "cells": [
  {
   "cell_type": "markdown",
   "metadata": {},
   "source": [
    "# Statistics : Examples from Epidemiology\n",
    "\n",
    "## What is Epidemiology\n",
    "\n",
    "![London cholera outbreak and John Snow (1854)](Images/Snow.jpg)\n",
    "*Figure: London cholera outbreak and John Snow (1854)*\n",
    "\n",
    "Understang the distribution and the cause of disease and other health related variables"
   ]
  },
  {
   "cell_type": "markdown",
   "metadata": {},
   "source": [
    "## Pyramid of Evidence\n",
    "\n",
    "![pyramid](Images/pyramid.jpg)\n",
    "*Figure: Pyramid of Evidence (Davey Smith, 2018)*\n",
    "\n",
    "### Randomized Controlled Trials\n",
    "$$ y = X \\beta + \\epsilon $$\n",
    "\n",
    "* $y$ : Outcome\n",
    "* $X$ : Exposure\n",
    "* $\\epsilon$ : random error\n",
    "\n",
    "And... the most important part : _$X$ and $\\epsilon$ is independent_"
   ]
  },
  {
   "cell_type": "code",
   "execution_count": 27,
   "metadata": {},
   "outputs": [
    {
     "data": {
      "image/png": "[encoded data removed]",
      "text/plain": [
       "<Figure size 432x288 with 1 Axes>"
      ]
     },
     "metadata": {
      "needs_background": "light"
     },
     "output_type": "display_data"
    },
    {
     "name": "stdout",
     "output_type": "stream",
     "text": [
      "                            OLS Regression Results                            \n",
      "==============================================================================\n",
      "Dep. Variable:                      y   R-squared:                       0.800\n",
      "Model:                            OLS   Adj. R-squared:                  0.798\n",
      "Method:                 Least Squares   F-statistic:                     393.1\n",
      "Date:                Tue, 05 Nov 2019   Prob (F-statistic):           4.50e-36\n",
      "Time:                        00:05:42   Log-Likelihood:                -133.81\n",
      "No. Observations:                 100   AIC:                             271.6\n",
      "Df Residuals:                      98   BIC:                             276.8\n",
      "Df Model:                           1                                         \n",
      "Covariance Type:            nonrobust                                         \n",
      "==============================================================================\n",
      "                 coef    std err          t      P>|t|      [0.025      0.975]\n",
      "------------------------------------------------------------------------------\n",
      "const         -0.1790      0.093     -1.919      0.058      -0.364       0.006\n",
      "x1             1.9258      0.097     19.828      0.000       1.733       2.119\n",
      "==============================================================================\n",
      "Omnibus:                        0.136   Durbin-Watson:                   1.636\n",
      "Prob(Omnibus):                  0.934   Jarque-Bera (JB):                0.230\n",
      "Skew:                           0.083   Prob(JB):                        0.891\n",
      "Kurtosis:                       2.834   Cond. No.                         1.07\n",
      "==============================================================================\n",
      "\n",
      "Warnings:\n",
      "[1] Standard Errors assume that the covariance matrix of the errors is correctly specified.\n"
     ]
    }
   ],
   "source": [
    "# import required libraries\n",
    "import numpy as np\n",
    "import matplotlib.pyplot as plt\n",
    "import statsmodels.api as sm\n",
    "\n",
    "# suppose y = 2x + \\epsilon\n",
    "\n",
    "# sample x, epsilon and create y\n",
    "n = 100 # 100 samples\n",
    "x = np.random.normal(loc=0, scale=1, size=n)\n",
    "e = np.random.normal(loc=0, scale=1, size=n)\n",
    "y = 2 * x + e\n",
    "\n",
    "plt.scatter(x,y)\n",
    "plt.show()\n",
    "\n",
    "# acuqire b using OLS\n",
    "model = sm.OLS(y, sm.add_constant(x))\n",
    "result = model.fit()\n",
    "print(result.summary())\n",
    "\n",
    "\n"
   ]
  },
  {
   "cell_type": "markdown",
   "metadata": {},
   "source": [
    "### Non-independence of errors\n",
    "$$ y = X \\beta + \\epsilon $$\n",
    "\n",
    "* $y$ : Outcome\n",
    "* $X$ : Exposure\n",
    "* $\\epsilon$ : random error\n",
    "\n",
    "We assumed that error $\\epsilon$ and $X$ is indendent.\n",
    "\n",
    "However, what happens when this assumption is violated?\n",
    "\n",
    "This happens frequently when randomization is not possible since such experiements are impossible to conduct under many conditions.\n",
    "\n",
    "Suppose that,\n",
    "$$(X,\\epsilon) \\sim N(\\mathbf{0}, \\Sigma)$$\n",
    "where $ \\Sigma = \\begin{pmatrix} 1 & 0.5 \\\\ 0.5 & 1 \\end{pmatrix}$"
   ]
  },
  {
   "cell_type": "code",
   "execution_count": 34,
   "metadata": {},
   "outputs": [
    {
     "name": "stdout",
     "output_type": "stream",
     "text": [
      "                            OLS Regression Results                            \n",
      "==============================================================================\n",
      "Dep. Variable:                      y   R-squared:                       0.237\n",
      "Model:                            OLS   Adj. R-squared:                  0.229\n",
      "Method:                 Least Squares   F-statistic:                     30.42\n",
      "Date:                Tue, 05 Nov 2019   Prob (F-statistic):           2.83e-07\n",
      "Time:                        00:13:56   Log-Likelihood:                -121.10\n",
      "No. Observations:                 100   AIC:                             246.2\n",
      "Df Residuals:                      98   BIC:                             251.4\n",
      "Df Model:                           1                                         \n",
      "Covariance Type:            nonrobust                                         \n",
      "==============================================================================\n",
      "                 coef    std err          t      P>|t|      [0.025      0.975]\n",
      "------------------------------------------------------------------------------\n",
      "const         -0.0798      0.082     -0.972      0.333      -0.243       0.083\n",
      "x1             0.4466      0.081      5.515      0.000       0.286       0.607\n",
      "==============================================================================\n",
      "Omnibus:                        0.920   Durbin-Watson:                   2.013\n",
      "Prob(Omnibus):                  0.631   Jarque-Bera (JB):                0.720\n",
      "Skew:                          -0.208   Prob(JB):                        0.698\n",
      "Kurtosis:                       3.011   Cond. No.                         1.01\n",
      "==============================================================================\n",
      "\n",
      "Warnings:\n",
      "[1] Standard Errors assume that the covariance matrix of the errors is correctly specified.\n"
     ]
    },
    {
     "data": {
      "image/png": "[encoded data removed]",
      "text/plain": [
       "<Figure size 432x288 with 1 Axes>"
      ]
     },
     "metadata": {
      "needs_background": "light"
     },
     "output_type": "display_data"
    }
   ],
   "source": [
    "# sample x and e\n",
    "x, e = np.random.multivariate_normal(mean=[0,0], cov=[[1,0.5],[0.5,1]], size=n).T\n",
    "y = e\n",
    "plt.scatter(x,y)\n",
    "plt.plot()\n",
    "\n",
    "# acuqire b using OLS\n",
    "model = sm.OLS(y, sm.add_constant(x))\n",
    "result = model.fit()\n",
    "print(result.summary())"
   ]
  },
  {
   "cell_type": "markdown",
   "metadata": {},
   "source": [
    "### Confounding\n",
    "One cause of such non-independence between the exposure ($X$) and the error ($\\epsilon$) is called confounding.\n",
    "\n",
    "Confounding happens when the exposure and the outcome of interest has a common cause. For example,\n",
    "![confounder](Images/confounder.png)\n",
    "*Figure: Adopted from https://blogs.qub.ac.uk/griefstudy/*\n",
    "\n",
    "\n",
    "\n"
   ]
  },
  {
   "cell_type": "markdown",
   "metadata": {},
   "source": [
    "### Cohort Study and Case-Control Study\n",
    "Cohort study and Case-Control study are common study designs used when randomization is inadequate.\n",
    "As described above, these designs are prone to confounding. \n",
    "However, they are still useful in number of ways.\n",
    "\n",
    "This is how they look like:\n",
    "![cohort](Images/cohort.png)\n",
    "*Figure: Cohort study. Adopted from Gordis, 2018*\n",
    "\n",
    "![cc](Images/cc.png)\n",
    "*Figure: Case-Control study. Adopted from Gordis, 2018*\n"
   ]
  },
  {
   "cell_type": "code",
   "execution_count": null,
   "metadata": {},
   "outputs": [],
   "source": []
  }
 ],
 "metadata": {
  "kernelspec": {
   "display_name": "Python 3",
   "language": "python",
   "name": "python3"
  },
  "language_info": {
   "codemirror_mode": {
    "name": "ipython",
    "version": 3
   },
   "file_extension": ".py",
   "mimetype": "text/x-python",
   "name": "python",
   "nbconvert_exporter": "python",
   "pygments_lexer": "ipython3",
   "version": "3.7.4"
  }
 },
 "nbformat": 4,
 "nbformat_minor": 2
}
