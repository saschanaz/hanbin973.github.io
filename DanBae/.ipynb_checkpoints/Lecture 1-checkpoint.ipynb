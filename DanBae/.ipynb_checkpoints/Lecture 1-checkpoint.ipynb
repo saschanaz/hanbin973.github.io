{
 "cells": [
  {
   "cell_type": "markdown",
   "metadata": {},
   "source": [
    "# Statistics : Examples from Epidemiology\n",
    "\n",
    "## What is Epidemiology\n",
    "\n",
    "![London cholera outbreak and John Snow (1854)](Images/Snow.jpg)\n",
    "*Figure: London cholera outbreak and John Snow (1854)*\n",
    "\n",
    "Understang the distribution and the cause of disease and other health related variables"
   ]
  },
  {
   "cell_type": "markdown",
   "metadata": {},
   "source": [
    "## Pyramid of Evidence\n",
    "\n",
    "![pyramid](Images/pyramid.jpg)\n",
    "*Figure: Pyramid of Evidence*\n",
    "\n",
    "### Randomized Controlled Trials\n",
    "$$ y = X \\beta + \\epsilon $$\n",
    "\n",
    "* $y$ : Outcome\n",
    "* $X$ : Exposure\n",
    "* $\\epsilon$ : random error\n",
    "\n",
    "And... the most important part : _$X$ and $\\epsilon$ is independent_"
   ]
  },
  {
   "cell_type": "code",
   "execution_count": 27,
   "metadata": {},
   "outputs": [
    {
     "data": {
      "image/png": "[encoded data removed]",
      "text/plain": [
       "<Figure size 432x288 with 1 Axes>"
      ]
     },
     "metadata": {
      "needs_background": "light"
     },
     "output_type": "display_data"
    },
    {
     "name": "stdout",
     "output_type": "stream",
     "text": [
      "                            OLS Regression Results                            \n",
      "==============================================================================\n",
      "Dep. Variable:                      y   R-squared:                       0.800\n",
      "Model:                            OLS   Adj. R-squared:                  0.798\n",
      "Method:                 Least Squares   F-statistic:                     393.1\n",
      "Date:                Tue, 05 Nov 2019   Prob (F-statistic):           4.50e-36\n",
      "Time:                        00:05:42   Log-Likelihood:                -133.81\n",
      "No. Observations:                 100   AIC:                             271.6\n",
      "Df Residuals:                      98   BIC:                             276.8\n",
      "Df Model:                           1                                         \n",
      "Covariance Type:            nonrobust                                         \n",
      "==============================================================================\n",
      "                 coef    std err          t      P>|t|      [0.025      0.975]\n",
      "------------------------------------------------------------------------------\n",
      "const         -0.1790      0.093     -1.919      0.058      -0.364       0.006\n",
      "x1             1.9258      0.097     19.828      0.000       1.733       2.119\n",
      "==============================================================================\n",
      "Omnibus:                        0.136   Durbin-Watson:                   1.636\n",
      "Prob(Omnibus):                  0.934   Jarque-Bera (JB):                0.230\n",
      "Skew:                           0.083   Prob(JB):                        0.891\n",
      "Kurtosis:                       2.834   Cond. No.                         1.07\n",
      "==============================================================================\n",
      "\n",
      "Warnings:\n",
      "[1] Standard Errors assume that the covariance matrix of the errors is correctly specified.\n"
     ]
    }
   ],
   "source": [
    "# import required libraries\n",
    "import numpy as np\n",
    "import matplotlib.pyplot as plt\n",
    "import statsmodels.api as sm\n",
    "\n",
    "# suppose y = 2x + \\epsilon\n",
    "\n",
    "# sample x, epsilon and create y\n",
    "n = 100 # 100 samples\n",
    "x = np.random.normal(loc=0, scale=1, size=n)\n",
    "e = np.random.normal(loc=0, scale=1, size=n)\n",
    "y = 2 * x + e\n",
    "\n",
    "plt.scatter(x,y)\n",
    "plt.show()\n",
    "\n",
    "# acuqire b using OLS\n",
    "model = sm.OLS(y, sm.add_constant(x))\n",
    "result = model.fit()\n",
    "print(result.summary())\n",
    "\n",
    "\n"
   ]
  },
  {
   "cell_type": "markdown",
   "metadata": {},
   "source": [
    "### Non-independence of errors\n",
    "$$ y = X \\beta + \\epsilon $$\n",
    "\n",
    "* $y$ : Outcome\n",
    "* $X$ : Exposure\n",
    "* $\\epsilon$ : random error\n",
    "\n",
    "We assumed that error $\\epsilon$ and $X is indendent.\n",
    "\n",
    "However, what happens when this assumption is violated?\n",
    "\n",
    "This happens frequently when randomization is not possible since such experiements are impossible to conduct under many conditions.\n",
    "\n",
    "Suppose that,\n",
    "$$(X,\\epsilon) \\sim N(\\mathbf{0}, \\Sigma)$$\n",
    "where $ \\Sigma = \\begin{pmatrix} 1 & 0.5 \\\\ 0.5 & 1 \\end{pmatrix}$"
   ]
  },
  {
   "cell_type": "code",
   "execution_count": 31,
   "metadata": {},
   "outputs": [
    {
     "name": "stdout",
     "output_type": "stream",
     "text": [
      "                            OLS Regression Results                            \n",
      "==============================================================================\n",
      "Dep. Variable:                      y   R-squared:                       0.921\n",
      "Model:                            OLS   Adj. R-squared:                  0.920\n",
      "Method:                 Least Squares   F-statistic:                     1135.\n",
      "Date:                Tue, 05 Nov 2019   Prob (F-statistic):           1.07e-55\n",
      "Time:                        00:13:34   Log-Likelihood:                -116.11\n",
      "No. Observations:                 100   AIC:                             236.2\n",
      "Df Residuals:                      98   BIC:                             241.4\n",
      "Df Model:                           1                                         \n",
      "Covariance Type:            nonrobust                                         \n",
      "==============================================================================\n",
      "                 coef    std err          t      P>|t|      [0.025      0.975]\n",
      "------------------------------------------------------------------------------\n",
      "const          0.0539      0.078      0.689      0.492      -0.101       0.209\n",
      "x1             2.5170      0.075     33.695      0.000       2.369       2.665\n",
      "==============================================================================\n",
      "Omnibus:                        0.004   Durbin-Watson:                   1.828\n",
      "Prob(Omnibus):                  0.998   Jarque-Bera (JB):                0.110\n",
      "Skew:                           0.005   Prob(JB):                        0.946\n",
      "Kurtosis:                       2.838   Cond. No.                         1.09\n",
      "==============================================================================\n",
      "\n",
      "Warnings:\n",
      "[1] Standard Errors assume that the covariance matrix of the errors is correctly specified.\n"
     ]
    },
    {
     "data": {
      "image/png": "[encoded data removed]",
      "text/plain": [
       "<Figure size 432x288 with 1 Axes>"
      ]
     },
     "metadata": {
      "needs_background": "light"
     },
     "output_type": "display_data"
    }
   ],
   "source": [
    "# sample x and e\n",
    "x, e = np.random.multivariate_normal(mean=[0,0], cov=[[1,0.5],[0.5,1]], size=n).T\n",
    "y = e\n",
    "plt.scatter(x,y)\n",
    "plt.plot()\n",
    "\n",
    "# acuqire b using OLS\n",
    "model = sm.OLS(y, sm.add_constant(x))\n",
    "result = model.fit()\n",
    "print(result.summary())"
   ]
  }
 ],
 "metadata": {
  "kernelspec": {
   "display_name": "Python 3",
   "language": "python",
   "name": "python3"
  },
  "language_info": {
   "codemirror_mode": {
    "name": "ipython",
    "version": 3
   },
   "file_extension": ".py",
   "mimetype": "text/x-python",
   "name": "python",
   "nbconvert_exporter": "python",
   "pygments_lexer": "ipython3",
   "version": "3.7.4"
  }
 },
 "nbformat": 4,
 "nbformat_minor": 2
}
